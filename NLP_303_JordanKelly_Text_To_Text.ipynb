{
  "cells": [
    {
      "cell_type": "code",
      "execution_count": 2,
      "metadata": {
        "colab": {
          "base_uri": "https://localhost:8080/",
          "height": 1000
        },
        "id": "cIrXDogvnQKl",
        "outputId": "7a6ae960-4c6b-4941-bce9-907e6d036f0b"
      },
      "outputs": [
        {
          "output_type": "stream",
          "name": "stdout",
          "text": [
            "Collecting rasa==1.10.1\n",
            "  Downloading rasa-1.10.1-py3-none-any.whl (509 kB)\n",
            "\u001b[K     |████████████████████████████████| 509 kB 7.8 MB/s \n",
            "\u001b[?25hCollecting kafka-python<2.0,>=1.4\n",
            "  Downloading kafka_python-1.4.7-py2.py3-none-any.whl (266 kB)\n",
            "\u001b[K     |████████████████████████████████| 266 kB 58.2 MB/s \n",
            "\u001b[?25hCollecting sanic-cors<0.11.0,>=0.10.0b1\n",
            "  Downloading Sanic_Cors-0.10.0.post3-py2.py3-none-any.whl (17 kB)\n",
            "Collecting python-telegram-bot<13.0,>=11.1\n",
            "  Downloading python_telegram_bot-12.8-py2.py3-none-any.whl (375 kB)\n",
            "\u001b[K     |████████████████████████████████| 375 kB 50.7 MB/s \n",
            "\u001b[?25hCollecting colorhash<1.1.0,>=1.0.2\n",
            "  Downloading colorhash-1.0.4-py3-none-any.whl (5.5 kB)\n",
            "Requirement already satisfied: oauth2client==4.1.3 in /usr/local/lib/python3.7/dist-packages (from rasa==1.10.1) (4.1.3)\n",
            "Collecting prompt-toolkit<3.0,>=2.0\n",
            "  Downloading prompt_toolkit-2.0.10-py3-none-any.whl (340 kB)\n",
            "\u001b[K     |████████████████████████████████| 340 kB 54.0 MB/s \n",
            "\u001b[?25hRequirement already satisfied: scipy<2.0.0,>=1.4.1 in /usr/local/lib/python3.7/dist-packages (from rasa==1.10.1) (1.4.1)\n",
            "Collecting tensorflow-addons<0.8.0,>=0.7.1\n",
            "  Downloading tensorflow_addons-0.7.1-cp37-cp37m-manylinux2010_x86_64.whl (990 kB)\n",
            "\u001b[K     |████████████████████████████████| 990 kB 48.4 MB/s \n",
            "\u001b[?25hCollecting python-engineio<3.13,>=3.11\n",
            "  Downloading python_engineio-3.12.1-py2.py3-none-any.whl (49 kB)\n",
            "\u001b[K     |████████████████████████████████| 49 kB 6.0 MB/s \n",
            "\u001b[?25hCollecting sanic<20.0.0,>=19.12.2\n",
            "  Downloading sanic-19.12.5-py3-none-any.whl (73 kB)\n",
            "\u001b[K     |████████████████████████████████| 73 kB 1.8 MB/s \n",
            "\u001b[?25hCollecting multidict<5.0,>=4.6\n",
            "  Downloading multidict-4.7.6-cp37-cp37m-manylinux1_x86_64.whl (149 kB)\n",
            "\u001b[K     |████████████████████████████████| 149 kB 71.9 MB/s \n",
            "\u001b[?25hCollecting python-socketio<4.6,>=4.4\n",
            "  Downloading python_socketio-4.5.1-py2.py3-none-any.whl (51 kB)\n",
            "\u001b[K     |████████████████████████████████| 51 kB 379 kB/s \n",
            "\u001b[?25hCollecting gevent<1.6,>=1.4\n",
            "  Downloading gevent-1.5.0-cp37-cp37m-manylinux2010_x86_64.whl (5.1 MB)\n",
            "\u001b[K     |████████████████████████████████| 5.1 MB 40.3 MB/s \n",
            "\u001b[?25hCollecting tensorflow<2.2,>=2.1\n",
            "  Downloading tensorflow-2.1.4-cp37-cp37m-manylinux2010_x86_64.whl (422.0 MB)\n",
            "\u001b[K     |████████████████████████████████| 422.0 MB 32 kB/s \n",
            "\u001b[?25hCollecting attrs<19.4,>=19.3\n",
            "  Downloading attrs-19.3.0-py2.py3-none-any.whl (39 kB)\n",
            "Collecting scikit-learn<0.23,>=0.22\n",
            "  Downloading scikit_learn-0.22.2.post1-cp37-cp37m-manylinux1_x86_64.whl (7.1 MB)\n",
            "\u001b[K     |████████████████████████████████| 7.1 MB 31.6 MB/s \n",
            "\u001b[?25hCollecting colorclass<2.3,>=2.2\n",
            "  Downloading colorclass-2.2.2-py2.py3-none-any.whl (18 kB)\n",
            "Collecting pika<1.2.0,>=1.1.0\n",
            "  Downloading pika-1.1.0-py2.py3-none-any.whl (148 kB)\n",
            "\u001b[K     |████████████████████████████████| 148 kB 56.0 MB/s \n",
            "\u001b[?25hCollecting tensorflow_hub<0.9,>=0.7\n",
            "  Downloading tensorflow_hub-0.8.0-py2.py3-none-any.whl (101 kB)\n",
            "\u001b[K     |████████████████████████████████| 101 kB 13.3 MB/s \n",
            "\u001b[?25hCollecting boto3<2.0,>=1.12\n",
            "  Downloading boto3-1.21.26-py3-none-any.whl (132 kB)\n",
            "\u001b[K     |████████████████████████████████| 132 kB 63.0 MB/s \n",
            "\u001b[?25hCollecting redis<4.0,>=3.4\n",
            "  Downloading redis-3.5.3-py2.py3-none-any.whl (72 kB)\n",
            "\u001b[K     |████████████████████████████████| 72 kB 691 kB/s \n",
            "\u001b[?25hCollecting sanic-jwt<1.5.0,>=1.3.2\n",
            "  Downloading sanic-jwt-1.4.1.tar.gz (19 kB)\n",
            "Collecting terminaltables<3.2.0,>=3.1.0\n",
            "  Downloading terminaltables-3.1.10-py2.py3-none-any.whl (15 kB)\n",
            "Collecting tensorflow-probability<0.10,>=0.7\n",
            "  Downloading tensorflow_probability-0.9.0-py2.py3-none-any.whl (3.2 MB)\n",
            "\u001b[K     |████████████████████████████████| 3.2 MB 27.9 MB/s \n",
            "\u001b[?25hCollecting jsonpickle<1.5,>=1.3\n",
            "  Downloading jsonpickle-1.4.2-py2.py3-none-any.whl (36 kB)\n",
            "Collecting apscheduler<3.7,>=3.6\n",
            "  Downloading APScheduler-3.6.3-py2.py3-none-any.whl (58 kB)\n",
            "\u001b[K     |████████████████████████████████| 58 kB 6.1 MB/s \n",
            "\u001b[?25hCollecting aiohttp<3.7,>=3.6\n",
            "  Downloading aiohttp-3.6.3-cp37-cp37m-manylinux1_x86_64.whl (1.2 MB)\n",
            "\u001b[K     |████████████████████████████████| 1.2 MB 47.0 MB/s \n",
            "\u001b[?25hCollecting psycopg2-binary<2.9.0,>=2.8.2\n",
            "  Downloading psycopg2_binary-2.8.6-cp37-cp37m-manylinux1_x86_64.whl (3.0 MB)\n",
            "\u001b[K     |████████████████████████████████| 3.0 MB 36.9 MB/s \n",
            "\u001b[?25hCollecting slackclient<3.0.0,>=2.0.0\n",
            "  Downloading slackclient-2.9.3-py2.py3-none-any.whl (96 kB)\n",
            "\u001b[K     |████████████████████████████████| 96 kB 6.5 MB/s \n",
            "\u001b[?25hCollecting tensorflow-estimator==2.1.0\n",
            "  Downloading tensorflow_estimator-2.1.0-py2.py3-none-any.whl (448 kB)\n",
            "\u001b[K     |████████████████████████████████| 448 kB 64.4 MB/s \n",
            "\u001b[?25hCollecting packaging<19.1,>=19.0\n",
            "  Downloading packaging-19.0-py2.py3-none-any.whl (26 kB)\n",
            "Collecting rocketchat_API<1.4.0,>=0.6.31\n",
            "  Downloading rocketchat_API-1.3.1-py3-none-any.whl (9.6 kB)\n",
            "Collecting coloredlogs<11.0,>=10.0\n",
            "  Downloading coloredlogs-10.0-py2.py3-none-any.whl (47 kB)\n",
            "\u001b[K     |████████████████████████████████| 47 kB 5.3 MB/s \n",
            "\u001b[?25hCollecting jsonschema<3.3,>=3.2\n",
            "  Downloading jsonschema-3.2.0-py2.py3-none-any.whl (56 kB)\n",
            "\u001b[K     |████████████████████████████████| 56 kB 5.1 MB/s \n",
            "\u001b[?25hCollecting SQLAlchemy<1.4.0,>=1.3.3\n",
            "  Downloading SQLAlchemy-1.3.24-cp37-cp37m-manylinux2010_x86_64.whl (1.3 MB)\n",
            "\u001b[K     |████████████████████████████████| 1.3 MB 51.3 MB/s \n",
            "\u001b[?25hRequirement already satisfied: numpy<2.0,>=1.16 in /usr/local/lib/python3.7/dist-packages (from rasa==1.10.1) (1.21.5)\n",
            "Collecting sklearn-crfsuite<0.4,>=0.3\n",
            "  Downloading sklearn_crfsuite-0.3.6-py2.py3-none-any.whl (12 kB)\n",
            "Collecting mattermostwrapper<2.3,>=2.2\n",
            "  Downloading mattermostwrapper-2.2.tar.gz (2.5 kB)\n",
            "Collecting pymongo[srv,tls]<3.9.0,>=3.8.0\n",
            "  Downloading pymongo-3.8.0-cp37-cp37m-manylinux1_x86_64.whl (417 kB)\n",
            "\u001b[K     |████████████████████████████████| 417 kB 50.8 MB/s \n",
            "\u001b[?25hCollecting absl-py<0.10,>=0.9\n",
            "  Downloading absl-py-0.9.0.tar.gz (104 kB)\n",
            "\u001b[K     |████████████████████████████████| 104 kB 59.9 MB/s \n",
            "\u001b[?25hRequirement already satisfied: python-dateutil<2.9,>=2.8 in /usr/local/lib/python3.7/dist-packages (from rasa==1.10.1) (2.8.2)\n",
            "Collecting rasa-sdk<2.0.0,>=1.10.0\n",
            "  Downloading rasa_sdk-1.10.3-py3-none-any.whl (39 kB)\n",
            "Requirement already satisfied: matplotlib<3.3,>=3.1 in /usr/local/lib/python3.7/dist-packages (from rasa==1.10.1) (3.2.2)\n",
            "Collecting pydot<1.5,>=1.4\n",
            "  Downloading pydot-1.4.2-py2.py3-none-any.whl (21 kB)\n",
            "Requirement already satisfied: cloudpickle<1.4,>=1.2 in /usr/local/lib/python3.7/dist-packages (from rasa==1.10.1) (1.3.0)\n",
            "Collecting networkx<2.5.0,>=2.4.0\n",
            "  Downloading networkx-2.4-py3-none-any.whl (1.6 MB)\n",
            "\u001b[K     |████████████████████████████████| 1.6 MB 39.7 MB/s \n",
            "\u001b[?25hCollecting pytz<2020.0,>=2019.1\n",
            "  Downloading pytz-2019.3-py2.py3-none-any.whl (509 kB)\n",
            "\u001b[K     |████████████████████████████████| 509 kB 61.9 MB/s \n",
            "\u001b[?25hCollecting fbmessenger<6.1.0,>=6.0.0\n",
            "  Downloading fbmessenger-6.0.0-py2.py3-none-any.whl (11 kB)\n",
            "Collecting questionary<1.6.0,>=1.5.1\n",
            "  Downloading questionary-1.5.2-py3-none-any.whl (26 kB)\n",
            "Requirement already satisfied: requests<3.0,>=2.23 in /usr/local/lib/python3.7/dist-packages (from rasa==1.10.1) (2.23.0)\n",
            "Requirement already satisfied: setuptools>=41.0.0 in /usr/local/lib/python3.7/dist-packages (from rasa==1.10.1) (57.4.0)\n",
            "Collecting async_generator<1.11,>=1.10\n",
            "  Downloading async_generator-1.10-py3-none-any.whl (18 kB)\n",
            "Collecting ruamel.yaml<0.17,>=0.16\n",
            "  Downloading ruamel.yaml-0.16.13-py2.py3-none-any.whl (111 kB)\n",
            "\u001b[K     |████████████████████████████████| 111 kB 60.9 MB/s \n",
            "\u001b[?25hCollecting ujson<3.0,>=1.35\n",
            "  Downloading ujson-2.0.3-cp37-cp37m-manylinux1_x86_64.whl (174 kB)\n",
            "\u001b[K     |████████████████████████████████| 174 kB 63.2 MB/s \n",
            "\u001b[?25hCollecting twilio<6.27,>=6.26\n",
            "  Downloading twilio-6.26.3-py2.py3-none-any.whl (979 kB)\n",
            "\u001b[K     |████████████████████████████████| 979 kB 55.3 MB/s \n",
            "\u001b[?25hCollecting webexteamssdk<1.4.0,>=1.1.1\n",
            "  Downloading webexteamssdk-1.3.tar.gz (56 kB)\n",
            "\u001b[K     |████████████████████████████████| 56 kB 5.2 MB/s \n",
            "\u001b[?25hCollecting PyJWT<1.8,>=1.7\n",
            "  Downloading PyJWT-1.7.1-py2.py3-none-any.whl (18 kB)\n",
            "Collecting pykwalify<1.8.0,>=1.7.0\n",
            "  Downloading pykwalify-1.7.0-py2.py3-none-any.whl (40 kB)\n",
            "\u001b[K     |████████████████████████████████| 40 kB 4.6 MB/s \n",
            "\u001b[?25hCollecting tqdm<4.46,>=4.31\n",
            "  Downloading tqdm-4.45.0-py2.py3-none-any.whl (60 kB)\n",
            "\u001b[K     |████████████████████████████████| 60 kB 8.2 MB/s \n",
            "\u001b[?25hRequirement already satisfied: rsa>=3.1.4 in /usr/local/lib/python3.7/dist-packages (from oauth2client==4.1.3->rasa==1.10.1) (4.8)\n",
            "Requirement already satisfied: pyasn1>=0.1.7 in /usr/local/lib/python3.7/dist-packages (from oauth2client==4.1.3->rasa==1.10.1) (0.4.8)\n",
            "Requirement already satisfied: six>=1.6.1 in /usr/local/lib/python3.7/dist-packages (from oauth2client==4.1.3->rasa==1.10.1) (1.15.0)\n",
            "Requirement already satisfied: httplib2>=0.9.1 in /usr/local/lib/python3.7/dist-packages (from oauth2client==4.1.3->rasa==1.10.1) (0.17.4)\n",
            "Requirement already satisfied: pyasn1-modules>=0.0.5 in /usr/local/lib/python3.7/dist-packages (from oauth2client==4.1.3->rasa==1.10.1) (0.2.8)\n",
            "Collecting async-timeout<4.0,>=3.0\n",
            "  Downloading async_timeout-3.0.1-py3-none-any.whl (8.2 kB)\n",
            "Collecting yarl<1.6.0,>=1.0\n",
            "  Downloading yarl-1.5.1-cp37-cp37m-manylinux1_x86_64.whl (258 kB)\n",
            "\u001b[K     |████████████████████████████████| 258 kB 59.9 MB/s \n",
            "\u001b[?25hRequirement already satisfied: chardet<4.0,>=2.0 in /usr/local/lib/python3.7/dist-packages (from aiohttp<3.7,>=3.6->rasa==1.10.1) (3.0.4)\n",
            "Requirement already satisfied: tzlocal>=1.2 in /usr/local/lib/python3.7/dist-packages (from apscheduler<3.7,>=3.6->rasa==1.10.1) (1.5.1)\n",
            "Collecting jmespath<2.0.0,>=0.7.1\n",
            "  Downloading jmespath-1.0.0-py3-none-any.whl (23 kB)\n",
            "Collecting botocore<1.25.0,>=1.24.26\n",
            "  Downloading botocore-1.24.26-py3-none-any.whl (8.6 MB)\n",
            "\u001b[K     |████████████████████████████████| 8.6 MB 46.7 MB/s \n",
            "\u001b[?25hCollecting s3transfer<0.6.0,>=0.5.0\n",
            "  Downloading s3transfer-0.5.2-py3-none-any.whl (79 kB)\n",
            "\u001b[K     |████████████████████████████████| 79 kB 8.5 MB/s \n",
            "\u001b[?25hCollecting urllib3<1.27,>=1.25.4\n",
            "  Downloading urllib3-1.26.9-py2.py3-none-any.whl (138 kB)\n",
            "\u001b[K     |████████████████████████████████| 138 kB 65.5 MB/s \n",
            "\u001b[?25hCollecting humanfriendly>=4.7\n",
            "  Downloading humanfriendly-10.0-py2.py3-none-any.whl (86 kB)\n",
            "\u001b[K     |████████████████████████████████| 86 kB 6.0 MB/s \n",
            "\u001b[?25hRequirement already satisfied: greenlet>=0.4.14 in /usr/local/lib/python3.7/dist-packages (from gevent<1.6,>=1.4->rasa==1.10.1) (1.1.2)\n",
            "Requirement already satisfied: importlib-metadata in /usr/local/lib/python3.7/dist-packages (from jsonpickle<1.5,>=1.3->rasa==1.10.1) (4.11.3)\n",
            "Requirement already satisfied: pyrsistent>=0.14.0 in /usr/local/lib/python3.7/dist-packages (from jsonschema<3.3,>=3.2->rasa==1.10.1) (0.18.1)\n",
            "Requirement already satisfied: pyparsing!=2.0.4,!=2.1.2,!=2.1.6,>=2.0.1 in /usr/local/lib/python3.7/dist-packages (from matplotlib<3.3,>=3.1->rasa==1.10.1) (3.0.7)\n",
            "Requirement already satisfied: kiwisolver>=1.0.1 in /usr/local/lib/python3.7/dist-packages (from matplotlib<3.3,>=3.1->rasa==1.10.1) (1.4.0)\n",
            "Requirement already satisfied: cycler>=0.10 in /usr/local/lib/python3.7/dist-packages (from matplotlib<3.3,>=3.1->rasa==1.10.1) (0.11.0)\n",
            "Requirement already satisfied: typing-extensions in /usr/local/lib/python3.7/dist-packages (from kiwisolver>=1.0.1->matplotlib<3.3,>=3.1->rasa==1.10.1) (3.10.0.2)\n",
            "Requirement already satisfied: decorator>=4.3.0 in /usr/local/lib/python3.7/dist-packages (from networkx<2.5.0,>=2.4.0->rasa==1.10.1) (4.4.2)\n",
            "Requirement already satisfied: wcwidth in /usr/local/lib/python3.7/dist-packages (from prompt-toolkit<3.0,>=2.0->rasa==1.10.1) (0.2.5)\n",
            "Requirement already satisfied: PyYAML>=3.11 in /usr/local/lib/python3.7/dist-packages (from pykwalify<1.8.0,>=1.7.0->rasa==1.10.1) (3.13)\n",
            "Requirement already satisfied: docopt>=0.6.2 in /usr/local/lib/python3.7/dist-packages (from pykwalify<1.8.0,>=1.7.0->rasa==1.10.1) (0.6.2)\n",
            "Collecting dnspython<2.0.0,>=1.13.0\n",
            "  Downloading dnspython-1.16.0-py2.py3-none-any.whl (188 kB)\n",
            "\u001b[K     |████████████████████████████████| 188 kB 63.8 MB/s \n",
            "\u001b[?25hRequirement already satisfied: tornado>=5.1 in /usr/local/lib/python3.7/dist-packages (from python-telegram-bot<13.0,>=11.1->rasa==1.10.1) (5.1.1)\n",
            "Collecting cryptography\n",
            "  Downloading cryptography-36.0.2-cp36-abi3-manylinux_2_24_x86_64.whl (3.6 MB)\n",
            "\u001b[K     |████████████████████████████████| 3.6 MB 43.7 MB/s \n",
            "\u001b[?25hRequirement already satisfied: certifi in /usr/local/lib/python3.7/dist-packages (from python-telegram-bot<13.0,>=11.1->rasa==1.10.1) (2021.10.8)\n",
            "Collecting urllib3<1.27,>=1.25.4\n",
            "  Downloading urllib3-1.25.11-py2.py3-none-any.whl (127 kB)\n",
            "\u001b[K     |████████████████████████████████| 127 kB 48.9 MB/s \n",
            "\u001b[?25hRequirement already satisfied: idna<3,>=2.5 in /usr/local/lib/python3.7/dist-packages (from requests<3.0,>=2.23->rasa==1.10.1) (2.10)\n",
            "Collecting ruamel.yaml.clib>=0.1.2\n",
            "  Downloading ruamel.yaml.clib-0.2.6-cp37-cp37m-manylinux1_x86_64.whl (546 kB)\n",
            "\u001b[K     |████████████████████████████████| 546 kB 60.6 MB/s \n",
            "\u001b[?25hCollecting httpx==0.9.3\n",
            "  Downloading httpx-0.9.3-py2.py3-none-any.whl (64 kB)\n",
            "\u001b[K     |████████████████████████████████| 64 kB 3.9 MB/s \n",
            "\u001b[?25hCollecting aiofiles>=0.3.0\n",
            "  Downloading aiofiles-0.8.0-py3-none-any.whl (13 kB)\n",
            "Collecting httptools>=0.0.10\n",
            "  Downloading httptools-0.4.0-cp37-cp37m-manylinux_2_5_x86_64.manylinux1_x86_64.manylinux_2_12_x86_64.manylinux2010_x86_64.whl (406 kB)\n",
            "\u001b[K     |████████████████████████████████| 406 kB 61.8 MB/s \n",
            "\u001b[?25hCollecting websockets<9.0,>=7.0\n",
            "  Downloading websockets-8.1-cp37-cp37m-manylinux2010_x86_64.whl (79 kB)\n",
            "\u001b[K     |████████████████████████████████| 79 kB 7.1 MB/s \n",
            "\u001b[?25hCollecting sanic<20.0.0,>=19.12.2\n",
            "  Downloading sanic-19.12.4-py3-none-any.whl (73 kB)\n",
            "\u001b[K     |████████████████████████████████| 73 kB 1.8 MB/s \n",
            "\u001b[?25hCollecting uvloop>=0.5.3\n",
            "  Downloading uvloop-0.16.0-cp37-cp37m-manylinux_2_12_x86_64.manylinux2010_x86_64.whl (3.8 MB)\n",
            "\u001b[K     |████████████████████████████████| 3.8 MB 43.9 MB/s \n",
            "\u001b[?25hCollecting sanic<20.0.0,>=19.12.2\n",
            "  Downloading sanic-19.12.3-py3-none-any.whl (72 kB)\n",
            "\u001b[K     |████████████████████████████████| 72 kB 1.2 MB/s \n",
            "\u001b[?25h  Downloading sanic-19.12.2-py3-none-any.whl (72 kB)\n",
            "\u001b[K     |████████████████████████████████| 72 kB 928 kB/s \n",
            "\u001b[?25hCollecting hstspreload\n",
            "  Downloading hstspreload-2021.12.1-py3-none-any.whl (1.3 MB)\n",
            "\u001b[K     |████████████████████████████████| 1.3 MB 44.2 MB/s \n",
            "\u001b[?25hCollecting rfc3986<2,>=1.3\n",
            "  Downloading rfc3986-1.5.0-py2.py3-none-any.whl (31 kB)\n",
            "Collecting h2==3.*\n",
            "  Downloading h2-3.2.0-py2.py3-none-any.whl (65 kB)\n",
            "\u001b[K     |████████████████████████████████| 65 kB 3.6 MB/s \n",
            "\u001b[?25hCollecting sniffio==1.*\n",
            "  Downloading sniffio-1.2.0-py3-none-any.whl (10 kB)\n",
            "Collecting h11==0.8.*\n",
            "  Downloading h11-0.8.1-py2.py3-none-any.whl (55 kB)\n",
            "\u001b[K     |████████████████████████████████| 55 kB 4.6 MB/s \n",
            "\u001b[?25hCollecting hyperframe<6,>=5.2.0\n",
            "  Downloading hyperframe-5.2.0-py2.py3-none-any.whl (12 kB)\n",
            "Collecting hpack<4,>=3.0\n",
            "  Downloading hpack-3.0.0-py2.py3-none-any.whl (38 kB)\n",
            "Collecting sanic-plugins-framework>=0.9.0\n",
            "  Downloading Sanic_Plugins_Framework-0.9.5-py2.py3-none-any.whl (23 kB)\n",
            "Requirement already satisfied: joblib>=0.11 in /usr/local/lib/python3.7/dist-packages (from scikit-learn<0.23,>=0.22->rasa==1.10.1) (1.1.0)\n",
            "Collecting python-crfsuite>=0.8.3\n",
            "  Downloading python_crfsuite-0.9.8-cp37-cp37m-manylinux_2_17_x86_64.manylinux2014_x86_64.whl (965 kB)\n",
            "\u001b[K     |████████████████████████████████| 965 kB 47.5 MB/s \n",
            "\u001b[?25hRequirement already satisfied: tabulate in /usr/local/lib/python3.7/dist-packages (from sklearn-crfsuite<0.4,>=0.3->rasa==1.10.1) (0.8.9)\n",
            "Requirement already satisfied: protobuf>=3.8.0 in /usr/local/lib/python3.7/dist-packages (from tensorflow<2.2,>=2.1->rasa==1.10.1) (3.17.3)\n",
            "Collecting tensorboard<2.2.0,>=2.1.0\n",
            "  Downloading tensorboard-2.1.1-py3-none-any.whl (3.8 MB)\n",
            "\u001b[K     |████████████████████████████████| 3.8 MB 54.6 MB/s \n",
            "\u001b[?25hRequirement already satisfied: wheel>=0.26 in /usr/local/lib/python3.7/dist-packages (from tensorflow<2.2,>=2.1->rasa==1.10.1) (0.37.1)\n",
            "Requirement already satisfied: grpcio>=1.8.6 in /usr/local/lib/python3.7/dist-packages (from tensorflow<2.2,>=2.1->rasa==1.10.1) (1.44.0)\n",
            "Requirement already satisfied: google-pasta>=0.1.6 in /usr/local/lib/python3.7/dist-packages (from tensorflow<2.2,>=2.1->rasa==1.10.1) (0.2.0)\n",
            "Collecting numpy<2.0,>=1.16\n",
            "  Downloading numpy-1.18.5-cp37-cp37m-manylinux1_x86_64.whl (20.1 MB)\n",
            "\u001b[K     |████████████████████████████████| 20.1 MB 1.2 MB/s \n",
            "\u001b[?25hRequirement already satisfied: opt-einsum>=2.3.2 in /usr/local/lib/python3.7/dist-packages (from tensorflow<2.2,>=2.1->rasa==1.10.1) (3.3.0)\n",
            "Collecting keras-applications>=1.0.8\n",
            "  Downloading Keras_Applications-1.0.8-py3-none-any.whl (50 kB)\n",
            "\u001b[K     |████████████████████████████████| 50 kB 5.9 MB/s \n",
            "\u001b[?25hRequirement already satisfied: astor>=0.6.0 in /usr/local/lib/python3.7/dist-packages (from tensorflow<2.2,>=2.1->rasa==1.10.1) (0.8.1)\n",
            "Requirement already satisfied: termcolor>=1.1.0 in /usr/local/lib/python3.7/dist-packages (from tensorflow<2.2,>=2.1->rasa==1.10.1) (1.1.0)\n",
            "Collecting keras-preprocessing==1.1.0\n",
            "  Downloading Keras_Preprocessing-1.1.0-py2.py3-none-any.whl (41 kB)\n",
            "\u001b[K     |████████████████████████████████| 41 kB 827 kB/s \n",
            "\u001b[?25hRequirement already satisfied: wrapt>=1.11.1 in /usr/local/lib/python3.7/dist-packages (from tensorflow<2.2,>=2.1->rasa==1.10.1) (1.14.0)\n",
            "Collecting gast==0.2.2\n",
            "  Downloading gast-0.2.2.tar.gz (10 kB)\n",
            "Collecting h5py<=2.10.0\n",
            "  Downloading h5py-2.10.0-cp37-cp37m-manylinux1_x86_64.whl (2.9 MB)\n",
            "\u001b[K     |████████████████████████████████| 2.9 MB 38.2 MB/s \n",
            "\u001b[?25hRequirement already satisfied: google-auth<2,>=1.6.3 in /usr/local/lib/python3.7/dist-packages (from tensorboard<2.2.0,>=2.1.0->tensorflow<2.2,>=2.1->rasa==1.10.1) (1.35.0)\n",
            "Requirement already satisfied: markdown>=2.6.8 in /usr/local/lib/python3.7/dist-packages (from tensorboard<2.2.0,>=2.1.0->tensorflow<2.2,>=2.1->rasa==1.10.1) (3.3.6)\n",
            "Requirement already satisfied: werkzeug>=0.11.15 in /usr/local/lib/python3.7/dist-packages (from tensorboard<2.2.0,>=2.1.0->tensorflow<2.2,>=2.1->rasa==1.10.1) (1.0.1)\n",
            "Requirement already satisfied: google-auth-oauthlib<0.5,>=0.4.1 in /usr/local/lib/python3.7/dist-packages (from tensorboard<2.2.0,>=2.1.0->tensorflow<2.2,>=2.1->rasa==1.10.1) (0.4.6)\n",
            "Requirement already satisfied: cachetools<5.0,>=2.0.0 in /usr/local/lib/python3.7/dist-packages (from google-auth<2,>=1.6.3->tensorboard<2.2.0,>=2.1.0->tensorflow<2.2,>=2.1->rasa==1.10.1) (4.2.4)\n",
            "Requirement already satisfied: requests-oauthlib>=0.7.0 in /usr/local/lib/python3.7/dist-packages (from google-auth-oauthlib<0.5,>=0.4.1->tensorboard<2.2.0,>=2.1.0->tensorflow<2.2,>=2.1->rasa==1.10.1) (1.3.1)\n",
            "Requirement already satisfied: zipp>=0.5 in /usr/local/lib/python3.7/dist-packages (from importlib-metadata->jsonpickle<1.5,>=1.3->rasa==1.10.1) (3.7.0)\n",
            "Requirement already satisfied: oauthlib>=3.0.0 in /usr/local/lib/python3.7/dist-packages (from requests-oauthlib>=0.7.0->google-auth-oauthlib<0.5,>=0.4.1->tensorboard<2.2.0,>=2.1.0->tensorflow<2.2,>=2.1->rasa==1.10.1) (3.2.0)\n",
            "Requirement already satisfied: pysocks in /usr/local/lib/python3.7/dist-packages (from twilio<6.27,>=6.26->rasa==1.10.1) (1.7.1)\n",
            "Requirement already satisfied: future in /usr/local/lib/python3.7/dist-packages (from webexteamssdk<1.4.0,>=1.1.1->rasa==1.10.1) (0.16.0)\n",
            "Collecting requests-toolbelt\n",
            "  Downloading requests_toolbelt-0.9.1-py2.py3-none-any.whl (54 kB)\n",
            "\u001b[K     |████████████████████████████████| 54 kB 3.0 MB/s \n",
            "\u001b[?25hRequirement already satisfied: cffi>=1.12 in /usr/local/lib/python3.7/dist-packages (from cryptography->python-telegram-bot<13.0,>=11.1->rasa==1.10.1) (1.15.0)\n",
            "Requirement already satisfied: pycparser in /usr/local/lib/python3.7/dist-packages (from cffi>=1.12->cryptography->python-telegram-bot<13.0,>=11.1->rasa==1.10.1) (2.21)\n",
            "Building wheels for collected packages: absl-py, mattermostwrapper, sanic-jwt, gast, webexteamssdk\n",
            "  Building wheel for absl-py (setup.py) ... \u001b[?25l\u001b[?25hdone\n",
            "  Created wheel for absl-py: filename=absl_py-0.9.0-py3-none-any.whl size=121939 sha256=93c836b16067cd37d7153d0a02c398850d88a9f5d1cff6b0cfae539ca0576365\n",
            "  Stored in directory: /root/.cache/pip/wheels/cc/af/1a/498a24d0730ef484019e007bb9e8cef3ac00311a672c049a3e\n",
            "  Building wheel for mattermostwrapper (setup.py) ... \u001b[?25l\u001b[?25hdone\n",
            "  Created wheel for mattermostwrapper: filename=mattermostwrapper-2.2-py3-none-any.whl size=2465 sha256=b734032c2cf3fec81a894383e2edaaaa4eb2466e97257a00af39d62d4d192de3\n",
            "  Stored in directory: /root/.cache/pip/wheels/b9/70/77/6c3f3c9a6f096f765d0767b21e73598d66c3b79cb7b09b62ad\n",
            "  Building wheel for sanic-jwt (setup.py) ... \u001b[?25l\u001b[?25hdone\n",
            "  Created wheel for sanic-jwt: filename=sanic_jwt-1.4.1-py3-none-any.whl size=21613 sha256=65ffe28dd581c671f073c8ab127204d9db6c0dad0840ac7f10c6877fa8cbc388\n",
            "  Stored in directory: /root/.cache/pip/wheels/26/df/b1/f72efce63fe6e26b2bae666e1cae88c68c38d718dafb9183b0\n",
            "  Building wheel for gast (setup.py) ... \u001b[?25l\u001b[?25hdone\n",
            "  Created wheel for gast: filename=gast-0.2.2-py3-none-any.whl size=7554 sha256=7255379ac3d01890e7f3abfa10ca86c4b4ecc587ad25d4999e540c2ef7997f3f\n",
            "  Stored in directory: /root/.cache/pip/wheels/21/7f/02/420f32a803f7d0967b48dd823da3f558c5166991bfd204eef3\n",
            "  Building wheel for webexteamssdk (setup.py) ... \u001b[?25l\u001b[?25hdone\n",
            "  Created wheel for webexteamssdk: filename=webexteamssdk-1.3-py3-none-any.whl size=99579 sha256=2e672cf7f753d8bfe4a6b7424b495247dd4c1f2cc8b3c06e0b1e4a5f5c41a8e3\n",
            "  Stored in directory: /root/.cache/pip/wheels/08/88/4d/7fe6eec20e0658e8ad6edd9969d27114280780d7f4ef42e436\n",
            "Successfully built absl-py mattermostwrapper sanic-jwt gast webexteamssdk\n",
            "Installing collected packages: urllib3, hyperframe, hpack, sniffio, rfc3986, hstspreload, h2, h11, websockets, uvloop, ujson, numpy, multidict, httpx, httptools, aiofiles, sanic, jmespath, h5py, absl-py, yarl, tensorflow-estimator, tensorboard, sanic-plugins-framework, pytz, keras-preprocessing, keras-applications, humanfriendly, gast, botocore, attrs, async-timeout, tqdm, tensorflow, sanic-cors, s3transfer, ruamel.yaml.clib, requests-toolbelt, python-engineio, python-crfsuite, pymongo, PyJWT, prompt-toolkit, dnspython, cryptography, coloredlogs, aiohttp, webexteamssdk, twilio, terminaltables, tensorflow-probability, tensorflow-hub, tensorflow-addons, SQLAlchemy, slackclient, sklearn-crfsuite, scikit-learn, sanic-jwt, ruamel.yaml, rocketchat-API, redis, rasa-sdk, questionary, python-telegram-bot, python-socketio, pykwalify, pydot, psycopg2-binary, pika, packaging, networkx, mattermostwrapper, kafka-python, jsonschema, jsonpickle, gevent, fbmessenger, colorhash, colorclass, boto3, async-generator, apscheduler, rasa\n",
            "  Attempting uninstall: urllib3\n",
            "    Found existing installation: urllib3 1.24.3\n",
            "    Uninstalling urllib3-1.24.3:\n",
            "      Successfully uninstalled urllib3-1.24.3\n",
            "  Attempting uninstall: numpy\n",
            "    Found existing installation: numpy 1.21.5\n",
            "    Uninstalling numpy-1.21.5:\n",
            "      Successfully uninstalled numpy-1.21.5\n",
            "  Attempting uninstall: h5py\n",
            "    Found existing installation: h5py 3.1.0\n",
            "    Uninstalling h5py-3.1.0:\n",
            "      Successfully uninstalled h5py-3.1.0\n",
            "  Attempting uninstall: absl-py\n",
            "    Found existing installation: absl-py 1.0.0\n",
            "    Uninstalling absl-py-1.0.0:\n",
            "      Successfully uninstalled absl-py-1.0.0\n",
            "  Attempting uninstall: tensorflow-estimator\n",
            "    Found existing installation: tensorflow-estimator 2.8.0\n",
            "    Uninstalling tensorflow-estimator-2.8.0:\n",
            "      Successfully uninstalled tensorflow-estimator-2.8.0\n",
            "  Attempting uninstall: tensorboard\n",
            "    Found existing installation: tensorboard 2.8.0\n",
            "    Uninstalling tensorboard-2.8.0:\n",
            "      Successfully uninstalled tensorboard-2.8.0\n",
            "  Attempting uninstall: pytz\n",
            "    Found existing installation: pytz 2018.9\n",
            "    Uninstalling pytz-2018.9:\n",
            "      Successfully uninstalled pytz-2018.9\n",
            "  Attempting uninstall: keras-preprocessing\n",
            "    Found existing installation: Keras-Preprocessing 1.1.2\n",
            "    Uninstalling Keras-Preprocessing-1.1.2:\n",
            "      Successfully uninstalled Keras-Preprocessing-1.1.2\n",
            "  Attempting uninstall: gast\n",
            "    Found existing installation: gast 0.5.3\n",
            "    Uninstalling gast-0.5.3:\n",
            "      Successfully uninstalled gast-0.5.3\n",
            "  Attempting uninstall: attrs\n",
            "    Found existing installation: attrs 21.4.0\n",
            "    Uninstalling attrs-21.4.0:\n",
            "      Successfully uninstalled attrs-21.4.0\n",
            "  Attempting uninstall: tqdm\n",
            "    Found existing installation: tqdm 4.63.0\n",
            "    Uninstalling tqdm-4.63.0:\n",
            "      Successfully uninstalled tqdm-4.63.0\n",
            "  Attempting uninstall: tensorflow\n",
            "    Found existing installation: tensorflow 2.8.0\n",
            "    Uninstalling tensorflow-2.8.0:\n",
            "      Successfully uninstalled tensorflow-2.8.0\n",
            "  Attempting uninstall: pymongo\n",
            "    Found existing installation: pymongo 4.0.2\n",
            "    Uninstalling pymongo-4.0.2:\n",
            "      Successfully uninstalled pymongo-4.0.2\n",
            "  Attempting uninstall: prompt-toolkit\n",
            "    Found existing installation: prompt-toolkit 1.0.18\n",
            "    Uninstalling prompt-toolkit-1.0.18:\n",
            "      Successfully uninstalled prompt-toolkit-1.0.18\n",
            "  Attempting uninstall: tensorflow-probability\n",
            "    Found existing installation: tensorflow-probability 0.16.0\n",
            "    Uninstalling tensorflow-probability-0.16.0:\n",
            "      Successfully uninstalled tensorflow-probability-0.16.0\n",
            "  Attempting uninstall: tensorflow-hub\n",
            "    Found existing installation: tensorflow-hub 0.12.0\n",
            "    Uninstalling tensorflow-hub-0.12.0:\n",
            "      Successfully uninstalled tensorflow-hub-0.12.0\n",
            "  Attempting uninstall: SQLAlchemy\n",
            "    Found existing installation: SQLAlchemy 1.4.32\n",
            "    Uninstalling SQLAlchemy-1.4.32:\n",
            "      Successfully uninstalled SQLAlchemy-1.4.32\n",
            "  Attempting uninstall: scikit-learn\n",
            "    Found existing installation: scikit-learn 1.0.2\n",
            "    Uninstalling scikit-learn-1.0.2:\n",
            "      Successfully uninstalled scikit-learn-1.0.2\n",
            "  Attempting uninstall: pydot\n",
            "    Found existing installation: pydot 1.3.0\n",
            "    Uninstalling pydot-1.3.0:\n",
            "      Successfully uninstalled pydot-1.3.0\n",
            "  Attempting uninstall: packaging\n",
            "    Found existing installation: packaging 21.3\n",
            "    Uninstalling packaging-21.3:\n",
            "      Successfully uninstalled packaging-21.3\n",
            "  Attempting uninstall: networkx\n",
            "    Found existing installation: networkx 2.6.3\n",
            "    Uninstalling networkx-2.6.3:\n",
            "      Successfully uninstalled networkx-2.6.3\n",
            "  Attempting uninstall: jsonschema\n",
            "    Found existing installation: jsonschema 4.3.3\n",
            "    Uninstalling jsonschema-4.3.3:\n",
            "      Successfully uninstalled jsonschema-4.3.3\n",
            "\u001b[31mERROR: pip's dependency resolver does not currently take into account all the packages that are installed. This behaviour is the source of the following dependency conflicts.\n",
            "yellowbrick 1.4 requires scikit-learn>=1.0.0, but you have scikit-learn 0.22.2.post1 which is incompatible.\n",
            "tables 3.7.0 requires numpy>=1.19.0, but you have numpy 1.18.5 which is incompatible.\n",
            "pooch 1.6.0 requires packaging>=20.0, but you have packaging 19.0 which is incompatible.\n",
            "panel 0.12.1 requires tqdm>=4.48.0, but you have tqdm 4.45.0 which is incompatible.\n",
            "nbclient 0.5.13 requires jupyter-client>=6.1.5, but you have jupyter-client 5.3.5 which is incompatible.\n",
            "librosa 0.8.1 requires packaging>=20.0, but you have packaging 19.0 which is incompatible.\n",
            "jupyter-console 5.2.0 requires prompt-toolkit<2.0.0,>=1.0.0, but you have prompt-toolkit 2.0.10 which is incompatible.\n",
            "jaxlib 0.3.2+cuda11.cudnn805 requires numpy>=1.19, but you have numpy 1.18.5 which is incompatible.\n",
            "jax 0.3.4 requires numpy>=1.19, but you have numpy 1.18.5 which is incompatible.\n",
            "ipython 5.5.0 requires prompt-toolkit<2.0.0,>=1.0.4, but you have prompt-toolkit 2.0.10 which is incompatible.\n",
            "imbalanced-learn 0.8.1 requires scikit-learn>=0.24, but you have scikit-learn 0.22.2.post1 which is incompatible.\n",
            "datascience 0.10.6 requires folium==0.2.1, but you have folium 0.8.3 which is incompatible.\n",
            "albumentations 0.1.12 requires imgaug<0.2.7,>=0.2.5, but you have imgaug 0.2.9 which is incompatible.\u001b[0m\n",
            "Successfully installed PyJWT-1.7.1 SQLAlchemy-1.3.24 absl-py-0.9.0 aiofiles-0.8.0 aiohttp-3.6.3 apscheduler-3.6.3 async-generator-1.10 async-timeout-3.0.1 attrs-19.3.0 boto3-1.21.26 botocore-1.24.26 colorclass-2.2.2 coloredlogs-10.0 colorhash-1.0.4 cryptography-36.0.2 dnspython-1.16.0 fbmessenger-6.0.0 gast-0.2.2 gevent-1.5.0 h11-0.8.1 h2-3.2.0 h5py-2.10.0 hpack-3.0.0 hstspreload-2021.12.1 httptools-0.4.0 httpx-0.9.3 humanfriendly-10.0 hyperframe-5.2.0 jmespath-1.0.0 jsonpickle-1.4.2 jsonschema-3.2.0 kafka-python-1.4.7 keras-applications-1.0.8 keras-preprocessing-1.1.0 mattermostwrapper-2.2 multidict-4.7.6 networkx-2.4 numpy-1.18.5 packaging-19.0 pika-1.1.0 prompt-toolkit-2.0.10 psycopg2-binary-2.8.6 pydot-1.4.2 pykwalify-1.7.0 pymongo-3.8.0 python-crfsuite-0.9.8 python-engineio-3.12.1 python-socketio-4.5.1 python-telegram-bot-12.8 pytz-2019.3 questionary-1.5.2 rasa-1.10.1 rasa-sdk-1.10.3 redis-3.5.3 requests-toolbelt-0.9.1 rfc3986-1.5.0 rocketchat-API-1.3.1 ruamel.yaml-0.16.13 ruamel.yaml.clib-0.2.6 s3transfer-0.5.2 sanic-19.12.2 sanic-cors-0.10.0.post3 sanic-jwt-1.4.1 sanic-plugins-framework-0.9.5 scikit-learn-0.22.2.post1 sklearn-crfsuite-0.3.6 slackclient-2.9.3 sniffio-1.2.0 tensorboard-2.1.1 tensorflow-2.1.4 tensorflow-addons-0.7.1 tensorflow-estimator-2.1.0 tensorflow-hub-0.8.0 tensorflow-probability-0.9.0 terminaltables-3.1.10 tqdm-4.45.0 twilio-6.26.3 ujson-2.0.3 urllib3-1.25.11 uvloop-0.16.0 webexteamssdk-1.3 websockets-8.1 yarl-1.5.1\n"
          ]
        },
        {
          "output_type": "display_data",
          "data": {
            "application/vnd.colab-display-data+json": {
              "pip_warning": {
                "packages": [
                  "numpy",
                  "prompt_toolkit"
                ]
              }
            }
          },
          "metadata": {}
        },
        {
          "output_type": "stream",
          "name": "stdout",
          "text": [
            "Collecting en_core_web_sm==2.2.5\n",
            "  Downloading https://github.com/explosion/spacy-models/releases/download/en_core_web_sm-2.2.5/en_core_web_sm-2.2.5.tar.gz (12.0 MB)\n",
            "\u001b[K     |████████████████████████████████| 12.0 MB 8.9 MB/s \n",
            "\u001b[?25hRequirement already satisfied: spacy>=2.2.2 in /usr/local/lib/python3.7/dist-packages (from en_core_web_sm==2.2.5) (2.2.4)\n",
            "Requirement already satisfied: murmurhash<1.1.0,>=0.28.0 in /usr/local/lib/python3.7/dist-packages (from spacy>=2.2.2->en_core_web_sm==2.2.5) (1.0.6)\n",
            "Requirement already satisfied: setuptools in /usr/local/lib/python3.7/dist-packages (from spacy>=2.2.2->en_core_web_sm==2.2.5) (57.4.0)\n",
            "Requirement already satisfied: thinc==7.4.0 in /usr/local/lib/python3.7/dist-packages (from spacy>=2.2.2->en_core_web_sm==2.2.5) (7.4.0)\n",
            "Requirement already satisfied: preshed<3.1.0,>=3.0.2 in /usr/local/lib/python3.7/dist-packages (from spacy>=2.2.2->en_core_web_sm==2.2.5) (3.0.6)\n",
            "Requirement already satisfied: wasabi<1.1.0,>=0.4.0 in /usr/local/lib/python3.7/dist-packages (from spacy>=2.2.2->en_core_web_sm==2.2.5) (0.9.0)\n",
            "Requirement already satisfied: numpy>=1.15.0 in /usr/local/lib/python3.7/dist-packages (from spacy>=2.2.2->en_core_web_sm==2.2.5) (1.18.5)\n",
            "Requirement already satisfied: plac<1.2.0,>=0.9.6 in /usr/local/lib/python3.7/dist-packages (from spacy>=2.2.2->en_core_web_sm==2.2.5) (1.1.3)\n",
            "Requirement already satisfied: tqdm<5.0.0,>=4.38.0 in /usr/local/lib/python3.7/dist-packages (from spacy>=2.2.2->en_core_web_sm==2.2.5) (4.45.0)\n",
            "Requirement already satisfied: cymem<2.1.0,>=2.0.2 in /usr/local/lib/python3.7/dist-packages (from spacy>=2.2.2->en_core_web_sm==2.2.5) (2.0.6)\n",
            "Requirement already satisfied: requests<3.0.0,>=2.13.0 in /usr/local/lib/python3.7/dist-packages (from spacy>=2.2.2->en_core_web_sm==2.2.5) (2.23.0)\n",
            "Requirement already satisfied: srsly<1.1.0,>=1.0.2 in /usr/local/lib/python3.7/dist-packages (from spacy>=2.2.2->en_core_web_sm==2.2.5) (1.0.5)\n",
            "Requirement already satisfied: catalogue<1.1.0,>=0.0.7 in /usr/local/lib/python3.7/dist-packages (from spacy>=2.2.2->en_core_web_sm==2.2.5) (1.0.0)\n",
            "Requirement already satisfied: blis<0.5.0,>=0.4.0 in /usr/local/lib/python3.7/dist-packages (from spacy>=2.2.2->en_core_web_sm==2.2.5) (0.4.1)\n",
            "Requirement already satisfied: importlib-metadata>=0.20 in /usr/local/lib/python3.7/dist-packages (from catalogue<1.1.0,>=0.0.7->spacy>=2.2.2->en_core_web_sm==2.2.5) (4.11.3)\n",
            "Requirement already satisfied: zipp>=0.5 in /usr/local/lib/python3.7/dist-packages (from importlib-metadata>=0.20->catalogue<1.1.0,>=0.0.7->spacy>=2.2.2->en_core_web_sm==2.2.5) (3.7.0)\n",
            "Requirement already satisfied: typing-extensions>=3.6.4 in /usr/local/lib/python3.7/dist-packages (from importlib-metadata>=0.20->catalogue<1.1.0,>=0.0.7->spacy>=2.2.2->en_core_web_sm==2.2.5) (3.10.0.2)\n",
            "Requirement already satisfied: chardet<4,>=3.0.2 in /usr/local/lib/python3.7/dist-packages (from requests<3.0.0,>=2.13.0->spacy>=2.2.2->en_core_web_sm==2.2.5) (3.0.4)\n",
            "Requirement already satisfied: idna<3,>=2.5 in /usr/local/lib/python3.7/dist-packages (from requests<3.0.0,>=2.13.0->spacy>=2.2.2->en_core_web_sm==2.2.5) (2.10)\n",
            "Requirement already satisfied: certifi>=2017.4.17 in /usr/local/lib/python3.7/dist-packages (from requests<3.0.0,>=2.13.0->spacy>=2.2.2->en_core_web_sm==2.2.5) (2021.10.8)\n",
            "Requirement already satisfied: urllib3!=1.25.0,!=1.25.1,<1.26,>=1.21.1 in /usr/local/lib/python3.7/dist-packages (from requests<3.0.0,>=2.13.0->spacy>=2.2.2->en_core_web_sm==2.2.5) (1.25.11)\n",
            "\u001b[38;5;2m✔ Download and installation successful\u001b[0m\n",
            "You can now load the model via spacy.load('en_core_web_sm')\n",
            "\u001b[38;5;2m✔ Linking successful\u001b[0m\n",
            "/usr/local/lib/python3.7/dist-packages/en_core_web_sm -->\n",
            "/usr/local/lib/python3.7/dist-packages/spacy/data/en\n",
            "You can now load the model via spacy.load('en')\n",
            "Requirement already satisfied: ipython in /usr/local/lib/python3.7/dist-packages (5.5.0)\n",
            "Collecting ipython\n",
            "  Downloading ipython-7.32.0-py3-none-any.whl (793 kB)\n",
            "\u001b[K     |████████████████████████████████| 793 kB 7.4 MB/s \n",
            "\u001b[?25hRequirement already satisfied: backcall in /usr/local/lib/python3.7/dist-packages (from ipython) (0.2.0)\n",
            "Requirement already satisfied: pygments in /usr/local/lib/python3.7/dist-packages (from ipython) (2.6.1)\n",
            "Requirement already satisfied: jedi>=0.16 in /usr/local/lib/python3.7/dist-packages (from ipython) (0.18.1)\n",
            "Requirement already satisfied: decorator in /usr/local/lib/python3.7/dist-packages (from ipython) (4.4.2)\n",
            "Requirement already satisfied: traitlets>=4.2 in /usr/local/lib/python3.7/dist-packages (from ipython) (5.1.1)\n",
            "Requirement already satisfied: setuptools>=18.5 in /usr/local/lib/python3.7/dist-packages (from ipython) (57.4.0)\n",
            "Requirement already satisfied: pickleshare in /usr/local/lib/python3.7/dist-packages (from ipython) (0.7.5)\n",
            "Requirement already satisfied: pexpect>4.3 in /usr/local/lib/python3.7/dist-packages (from ipython) (4.8.0)\n",
            "Requirement already satisfied: prompt-toolkit!=3.0.0,!=3.0.1,<3.1.0,>=2.0.0 in /usr/local/lib/python3.7/dist-packages (from ipython) (2.0.10)\n",
            "Requirement already satisfied: matplotlib-inline in /usr/local/lib/python3.7/dist-packages (from ipython) (0.1.3)\n",
            "Requirement already satisfied: parso<0.9.0,>=0.8.0 in /usr/local/lib/python3.7/dist-packages (from jedi>=0.16->ipython) (0.8.3)\n",
            "Requirement already satisfied: ptyprocess>=0.5 in /usr/local/lib/python3.7/dist-packages (from pexpect>4.3->ipython) (0.7.0)\n",
            "Requirement already satisfied: six>=1.9.0 in /usr/local/lib/python3.7/dist-packages (from prompt-toolkit!=3.0.0,!=3.0.1,<3.1.0,>=2.0.0->ipython) (1.15.0)\n",
            "Requirement already satisfied: wcwidth in /usr/local/lib/python3.7/dist-packages (from prompt-toolkit!=3.0.0,!=3.0.1,<3.1.0,>=2.0.0->ipython) (0.2.5)\n",
            "Installing collected packages: ipython\n",
            "  Attempting uninstall: ipython\n",
            "    Found existing installation: ipython 5.5.0\n",
            "    Uninstalling ipython-5.5.0:\n",
            "      Successfully uninstalled ipython-5.5.0\n",
            "\u001b[31mERROR: pip's dependency resolver does not currently take into account all the packages that are installed. This behaviour is the source of the following dependency conflicts.\n",
            "jupyter-console 5.2.0 requires prompt-toolkit<2.0.0,>=1.0.0, but you have prompt-toolkit 2.0.10 which is incompatible.\n",
            "google-colab 1.0.0 requires ipython~=5.5.0, but you have ipython 7.32.0 which is incompatible.\u001b[0m\n",
            "Successfully installed ipython-7.32.0\n"
          ]
        },
        {
          "output_type": "display_data",
          "data": {
            "application/vnd.colab-display-data+json": {
              "pip_warning": {
                "packages": [
                  "IPython"
                ]
              }
            }
          },
          "metadata": {}
        },
        {
          "output_type": "stream",
          "name": "stdout",
          "text": [
            "Collecting tables==3.6.1\n",
            "  Downloading tables-3.6.1-cp37-cp37m-manylinux1_x86_64.whl (4.3 MB)\n",
            "\u001b[K     |████████████████████████████████| 4.3 MB 7.5 MB/s \n",
            "\u001b[?25hRequirement already satisfied: numexpr>=2.6.2 in /usr/local/lib/python3.7/dist-packages (from tables==3.6.1) (2.8.1)\n",
            "Requirement already satisfied: numpy>=1.9.3 in /usr/local/lib/python3.7/dist-packages (from tables==3.6.1) (1.18.5)\n",
            "Requirement already satisfied: packaging in /usr/local/lib/python3.7/dist-packages (from numexpr>=2.6.2->tables==3.6.1) (19.0)\n",
            "Requirement already satisfied: pyparsing>=2.0.2 in /usr/local/lib/python3.7/dist-packages (from packaging->numexpr>=2.6.2->tables==3.6.1) (3.0.7)\n",
            "Requirement already satisfied: six in /usr/local/lib/python3.7/dist-packages (from packaging->numexpr>=2.6.2->tables==3.6.1) (1.15.0)\n",
            "Installing collected packages: tables\n",
            "  Attempting uninstall: tables\n",
            "    Found existing installation: tables 3.7.0\n",
            "    Uninstalling tables-3.7.0:\n",
            "      Successfully uninstalled tables-3.7.0\n",
            "Successfully installed tables-3.6.1\n",
            "Collecting nest_asyncio==1.3.3\n",
            "  Downloading nest_asyncio-1.3.3-py3-none-any.whl (4.7 kB)\n",
            "Installing collected packages: nest-asyncio\n",
            "  Attempting uninstall: nest-asyncio\n",
            "    Found existing installation: nest-asyncio 1.5.4\n",
            "    Uninstalling nest-asyncio-1.5.4:\n",
            "      Successfully uninstalled nest-asyncio-1.5.4\n",
            "\u001b[31mERROR: pip's dependency resolver does not currently take into account all the packages that are installed. This behaviour is the source of the following dependency conflicts.\n",
            "nbclient 0.5.13 requires jupyter-client>=6.1.5, but you have jupyter-client 5.3.5 which is incompatible.\u001b[0m\n",
            "Successfully installed nest-asyncio-1.3.3\n"
          ]
        }
      ],
      "source": [
        "!pip install rasa==1.10.1\n",
        "!python -m spacy download en\n",
        "!pip install -U ipython\n",
        "!pip install -U tables==3.6.1\n",
        "!pip install nest_asyncio==1.3.3"
      ]
    },
    {
      "cell_type": "code",
      "source": [
        "from google.colab import drive\n",
        "drive.mount('/content/drive')"
      ],
      "metadata": {
        "colab": {
          "base_uri": "https://localhost:8080/"
        },
        "id": "wdrGac9yFfjS",
        "outputId": "f5829830-2022-49bb-b0a3-b4614a022ced"
      },
      "execution_count": 12,
      "outputs": [
        {
          "output_type": "stream",
          "name": "stdout",
          "text": [
            "Mounted at /content/drive\n"
          ]
        }
      ]
    },
    {
      "cell_type": "code",
      "execution_count": 1,
      "metadata": {
        "colab": {
          "base_uri": "https://localhost:8080/"
        },
        "id": "VnwOKhOmnK3g",
        "outputId": "b135df63-55d1-4863-a688-acc0663a80bb"
      },
      "outputs": [
        {
          "output_type": "stream",
          "name": "stdout",
          "text": [
            "event loop ready\n"
          ]
        }
      ],
      "source": [
        "# restart runtime\n",
        "import os\n",
        "import rasa\n",
        "import nest_asyncio\n",
        "\n",
        "nest_asyncio.apply()\n",
        "print(\"event loop ready\")"
      ]
    },
    {
      "cell_type": "code",
      "execution_count": 2,
      "metadata": {
        "id": "NGEXZpjinUdd"
      },
      "outputs": [],
      "source": [
        "from rasa.cli.scaffold import create_initial_project"
      ]
    },
    {
      "cell_type": "code",
      "execution_count": 14,
      "metadata": {
        "id": "D2KCo7Vrnlrj"
      },
      "outputs": [],
      "source": [
        "project = '/content/drive/MyDrive/test_project'\n",
        "# create_initial_project(project)"
      ]
    },
    {
      "cell_type": "code",
      "execution_count": 4,
      "metadata": {
        "colab": {
          "base_uri": "https://localhost:8080/"
        },
        "id": "9PY5UmWjntu4",
        "outputId": "52eae5ab-b9cc-4634-a298-78c372cad4fe"
      },
      "outputs": [
        {
          "output_type": "stream",
          "name": "stdout",
          "text": [
            "['__init__.py', 'tests', 'endpoints.yml', 'domain.yml', 'config.yml', '__pycache__', 'actions.py', 'credentials.yml', 'data']\n"
          ]
        }
      ],
      "source": [
        "os.chdir(project)\n",
        "print(os.listdir(\".\"))"
      ]
    },
    {
      "cell_type": "code",
      "execution_count": 15,
      "metadata": {
        "colab": {
          "base_uri": "https://localhost:8080/"
        },
        "id": "cyKgJWmAn62z",
        "outputId": "8daac129-9a09-4495-c646-d9ce21a84830"
      },
      "outputs": [
        {
          "output_type": "stream",
          "name": "stdout",
          "text": [
            "/content/drive/MyDrive/test_project/config.yml /content/drive/MyDrive/test_project/data /content/drive/MyDrive/test_project/domain.yml /content/drive/MyDrive/test_project/models/\n"
          ]
        }
      ],
      "source": [
        "config = \"/content/drive/MyDrive/test_project/config.yml\"\n",
        "training_files = \"/content/drive/MyDrive/test_project/data\"\n",
        "domain = \"/content/drive/MyDrive/test_project/domain.yml\"\n",
        "output = \"/content/drive/MyDrive/test_project/models/\"\n",
        "endpoints = '/content/drive/MyDrive/test_project/endpoints.yml'\n",
        "\n",
        "print(config, training_files, domain, output)"
      ]
    },
    {
      "cell_type": "code",
      "execution_count": null,
      "metadata": {
        "colab": {
          "base_uri": "https://localhost:8080/"
        },
        "id": "829otqxtoaB4",
        "outputId": "21c73c9f-6a67-4f8d-de4b-fa75eeae1308"
      },
      "outputs": [
        {
          "output_type": "stream",
          "name": "stdout",
          "text": [
            "\u001b[94mTraining Core model...\u001b[0m\n"
          ]
        },
        {
          "output_type": "stream",
          "name": "stderr",
          "text": [
            "Processed Story Blocks: 100%|██████████| 5/5 [00:00<00:00, 409.58it/s, # trackers=1]\n",
            "Processed Story Blocks: 100%|██████████| 5/5 [00:00<00:00, 326.22it/s, # trackers=5]\n",
            "Processed Story Blocks: 100%|██████████| 5/5 [00:00<00:00, 147.08it/s, # trackers=20]\n",
            "Processed Story Blocks: 100%|██████████| 5/5 [00:00<00:00, 130.26it/s, # trackers=24]\n",
            "Processed trackers: 100%|██████████| 5/5 [00:00<00:00, 88.37it/s, # actions=16]\n",
            "Processed actions: 16it [00:00, 650.90it/s, # examples=16]\n",
            "Processed trackers: 100%|██████████| 231/231 [00:05<00:00, 44.26it/s, # actions=126]\n",
            "Epochs: 100%|██████████| 100/100 [00:15<00:00,  6.57it/s, t_loss=0.077, loss=0.005, acc=1.000]\n"
          ]
        },
        {
          "output_type": "stream",
          "name": "stdout",
          "text": [
            "\u001b[94mCore model training completed.\u001b[0m\n",
            "\u001b[94mTraining NLU model...\u001b[0m\n"
          ]
        },
        {
          "output_type": "stream",
          "name": "stderr",
          "text": [
            "\u001b[93m/usr/local/lib/python3.7/dist-packages/rasa/utils/common.py:351: UserWarning: You specified 'DIET' to train entities, but no entities are present in the training data. Skip training of entities.\n",
            "Epochs: 100%|██████████| 100/100 [00:17<00:00,  5.83it/s, t_loss=1.723, i_loss=0.345, i_acc=1.000]\n"
          ]
        },
        {
          "output_type": "stream",
          "name": "stdout",
          "text": [
            "\u001b[94mNLU model training completed.\u001b[0m\n",
            "\u001b[92mYour Rasa model is trained and saved at '/content/test_project/models/20220324-073540.tar.gz'.\u001b[0m\n",
            "models/20220324-073540.tar.gz\n"
          ]
        }
      ],
      "source": [
        "model_path = rasa.train(domain, config, [training_files], output)\n",
        "print(model_path)"
      ]
    },
    {
      "cell_type": "code",
      "execution_count": 6,
      "metadata": {
        "id": "jMMX3dUxpt4L"
      },
      "outputs": [],
      "source": [
        "from rasa.jupyter import chat\n",
        "\n",
        "endpoints = 'endpoints.yml'"
      ]
    },
    {
      "cell_type": "code",
      "execution_count": 7,
      "metadata": {
        "colab": {
          "base_uri": "https://localhost:8080/"
        },
        "id": "xwyqXR5ExKYb",
        "outputId": "2cd4ed8b-5826-4c48-f70e-c2f91604ec74"
      },
      "outputs": [
        {
          "output_type": "stream",
          "name": "stdout",
          "text": [
            "Overwriting data/nlu.md\n"
          ]
        }
      ],
      "source": [
        "%%writefile data/nlu.md\n",
        "\n",
        "## intent:greet\n",
        "- hey\n",
        "- hello\n",
        "- hi\n",
        "- good morning\n",
        "- good evening\n",
        "- hey there\n",
        "\n",
        "## intent:goodbye\n",
        "- bye\n",
        "- goodbye\n",
        "- see you around\n",
        "- see you later\n",
        "\n",
        "## intent:affirm\n",
        "- yes\n",
        "- indeed\n",
        "- of course\n",
        "- that sounds good\n",
        "- correct\n",
        "\n",
        "## intent:deny\n",
        "- no\n",
        "- never\n",
        "- I don't think so\n",
        "- don't like that\n",
        "- no way\n",
        "- not really\n",
        "\n",
        "## intent:bot_challenge\n",
        "- are you a bot?\n",
        "- are you a human?\n",
        "- am I talking to a bot?\n",
        "- am I talking to a human?\n",
        "\n",
        "## intent:informregion\n",
        "- I live on the [north shore](Auckland_Area)\n",
        "- I live in [west auckland](Auckland_Area)\n",
        "- I live at [auckland city](Auckland_Area)\n",
        "- I am located in [south auckland](Auckland_Area)\n",
        "- I am currently at [auckland city](Auckland_Area)\n",
        "- I can be found in [east auckland](Auckland_Area)\n",
        "- im located in [west auckland](Auckland_Area)\n",
        "\n",
        "## intent:informsuburb\n",
        "- im closest to [albany](Area_Suburb)\n",
        "- i am closest to [birkenhead](Area_Suburb)\n",
        "- the suburb i am closest to is [wairau](Area_Suburb)\n",
        "\n",
        "## intent:out_of_scope\n",
        "- that's not what I want to do\n",
        "- wait stop\n",
        "- you're not help\n",
        "- this is no help at all\n",
        "- I want to order a pizza\n",
        "- tell me the weather\n",
        "- this isn't working\n",
        "- I already told you that\n",
        "- don't like that\n",
        "- I don't want to tell you that\n",
        "- none of your business\n",
        "- that's not right\n",
        "- stop asking\n",
        "- nevermind\n",
        "- I want to do something else\n",
        "- I changed my mind\n",
        "\n",
        "## intent:thankyou\n",
        "- okay great thanks\n",
        "- thank you\n",
        "- sure thanks\n",
        "- thanks bye\n",
        "\n",
        "## intent:letscontinue\n",
        "- Lets continue\n",
        "- keep going\n",
        "- can we continue\n",
        "\n",
        "## intent:call_mcdonalds\n",
        "- I would like the phone number please\n",
        "- I would like to call them please\n",
        "- I want to see the phone number\n",
        "- Can I see the phone number \n",
        "- Phone number\n",
        "- show the phone number\n",
        "\n",
        "## intent:address_mcdonalds\n",
        "- i would like the address\n",
        "- i want to see the address please\n",
        "- can i see the address\n",
        "- address\n",
        "- show me the address\n",
        "- display the address\n",
        "\n",
        "## intent:restart_entries\n",
        "- i would like to restart\n",
        "- i entered the wrong locations\n",
        "- take me to the start\n",
        "- take me back to the beginning\n"
      ]
    },
    {
      "cell_type": "code",
      "execution_count": 8,
      "metadata": {
        "colab": {
          "base_uri": "https://localhost:8080/"
        },
        "id": "8Bww0EJkgmcQ",
        "outputId": "6fdfd845-a699-4641-b9fd-21a633cc9b4d"
      },
      "outputs": [
        {
          "output_type": "stream",
          "name": "stdout",
          "text": [
            "Overwriting domain.yml\n"
          ]
        }
      ],
      "source": [
        "%%writefile domain.yml\n",
        "\n",
        "intents:\n",
        "  - greet\n",
        "  - goodbye\n",
        "  - affirm\n",
        "  - deny\n",
        "  - bot_challenge\n",
        "  - num_room\n",
        "  - informregion\n",
        "  - out_of_scope\n",
        "  - thankyou\n",
        "  - informsuburb\n",
        "  - letscontinue\n",
        "  - call_mcdonalds\n",
        "  - address_mcdonalds\n",
        "  - restart_entries\n",
        "\n",
        "entities:\n",
        "  - Auckland_Area\n",
        "  - Area_Suburb\n",
        "\n",
        "responses:\n",
        "  utter_greet:\n",
        "    - text: \"Hey! I am a bot that can be used to help you locate McDonald restaurants in Auckland. Please type yes if you'd like to continue, otherwise type /stop!\"\n",
        "\n",
        "  utter_did_that_help:\n",
        "    - text: \"Did that help you?\"\n",
        "\n",
        "  utter_goodbye:\n",
        "    - text: \"Bye\"\n",
        "\n",
        "  utter_iamabot:\n",
        "    - text: \"I am a bot, powered by Rasa.\"\n",
        "    \n",
        "  utter_ask_continue:\n",
        "    - text: \"Sorry, I don't quite understand. Do you want to continue?\"\n",
        "\n",
        "  utter_ask_Auckland_Area:\n",
        "    - text: \"What area in Auckland do you live in? (West, City, South, North Shore, East)\"\n",
        "\n",
        "  utter_ask_Area_Suburb:\n",
        "    - text: \"What suburb in the area are you closest to? (Albany, Birkenhead, Wairau)\"\n",
        "\n",
        "  utter_Auckland_Area_confirm:\n",
        "    - text: \"You live in: {Auckland_Area}, Is this correct?\"\n",
        "\n",
        "  utter_Auckland_Suburb_confirm:\n",
        "    - text: \"The suburb you are currently closest to is this: {Area_Suburb}, Is this right?\"\n",
        "\n",
        "  utter_What_Next:\n",
        "    - text: \"Would you like the address or phone number for the McDonalds you are looking up? Or maybe you'd like to restart.\"\n",
        "\n",
        "  utter_Call_Mcdonalds:\n",
        "    - text: \"This is the phone number of the McDonalds you are nearest to: \"\n",
        "\n",
        "  utter_Address_Mcdonalds:\n",
        "    - text: \"This is the address of the McDonalds you are nearest to: {Area_Suburb}, {Auckland_Area}\"\n",
        "\n",
        "  utter_anything_else?:\n",
        "    - text: \"Would you like any other information? Or maybe you'd like to restart.\"\n",
        "\n",
        "slots:\n",
        "  Auckland_Area:\n",
        "    type: unfeaturized\n",
        "\n",
        "  Area_Suburb:\n",
        "    type: unfeaturized\n"
      ]
    },
    {
      "cell_type": "code",
      "execution_count": 9,
      "metadata": {
        "colab": {
          "base_uri": "https://localhost:8080/"
        },
        "id": "lgrMjMGVi4Xf",
        "outputId": "7eadb536-95e1-45d4-bb28-d871d9a08619"
      },
      "outputs": [
        {
          "output_type": "stream",
          "name": "stdout",
          "text": [
            "Overwriting data/stories.md\n"
          ]
        }
      ],
      "source": [
        "%%writefile data/stories.md\n",
        "\n",
        "## Mcdonald Phone Number Displayed Path\n",
        "* greet\n",
        "  - utter_greet\n",
        "* affirm\n",
        "  - utter_ask_Auckland_Area\n",
        "* informregion\n",
        "  - utter_Auckland_Area_confirm\n",
        "* affirm\n",
        "  - utter_ask_Area_Suburb\n",
        "* informsuburb\n",
        "  - utter_Auckland_Suburb_confirm\n",
        "* affirm\n",
        "  - utter_What_Next\n",
        "* call_mcdonalds\n",
        "  - utter_Call_Mcdonalds\n",
        "  - utter_anything_else?\n",
        "\n",
        "## Mcdonald Address Displayed Path\n",
        "* greet\n",
        "  - utter_greet\n",
        "* affirm\n",
        "  - utter_ask_Auckland_Area\n",
        "* informregion\n",
        "  - utter_Auckland_Area_confirm\n",
        "* affirm\n",
        "  - utter_ask_Area_Suburb\n",
        "* informsuburb\n",
        "  - utter_Auckland_Suburb_confirm\n",
        "* affirm\n",
        "  - utter_What_Next\n",
        "* address_mcdonalds\n",
        "  - utter_Address_Mcdonalds\n",
        "  - utter_anything_else?\n",
        "\n",
        "## Auckland Region Wrong\n",
        "* greet\n",
        "  - utter_greet\n",
        "* affirm\n",
        "  - utter_ask_Auckland_Area\n",
        "* informregion\n",
        "  - utter_Auckland_Area_confirm\n",
        "* deny\n",
        "  - utter_ask_Auckland_Area\n",
        "\n",
        "## Auckland Suburb Wrong\n",
        "* greet\n",
        "  - utter_greet\n",
        "* affirm\n",
        "  - utter_ask_Auckland_Area\n",
        "* informregion\n",
        "  - utter_Auckland_Area_confirm\n",
        "* affirm\n",
        "  - utter_ask_Area_Suburb\n",
        "* informsuburb\n",
        "  - utter_Auckland_Suburb_confirm\n",
        "* deny\n",
        "  - utter_ask_Area_Suburb\n",
        "\n",
        "## address after anything else\n",
        "  - utter_anything_else?\n",
        "* affirm\n",
        "  - utter_What_Next\n",
        "\n",
        "## restart\n",
        "  - utter_anything_else?\n",
        "* restart_entries\n",
        "  - utter_ask_Auckland_Area\n",
        "\n",
        "## restart 2\n",
        "  - utter_What_Next\n",
        "* restart_entries\n",
        "  - utter_ask_Auckland_Area\n",
        "\n",
        "## denied after anything else\n",
        "  - utter_anything_else?\n",
        "* deny\n",
        "  - utter_goodbye\n",
        "\n",
        "## denied what next\n",
        "  - utter_What_Next\n",
        "* deny\n",
        "  - utter_goodbye\n",
        "\n",
        "## denied path\n",
        "* greet\n",
        "  - utter_greet\n",
        "* deny\n",
        "  - utter_goodbye\n",
        "\n",
        "## goodbye\n",
        "* goodbye\n",
        "  - utter_goodbye"
      ]
    },
    {
      "cell_type": "code",
      "execution_count": 10,
      "metadata": {
        "id": "TCrFlDd3i-RZ",
        "colab": {
          "base_uri": "https://localhost:8080/"
        },
        "outputId": "1aec94d2-633e-4fd8-a3b8-425ceb8b0659"
      },
      "outputs": [
        {
          "output_type": "stream",
          "name": "stderr",
          "text": [
            "\u001b[93m/usr/local/lib/python3.7/dist-packages/rasa/core/domain.py:151: FutureWarning: No tracker session configuration was found in the loaded domain. Domains without a session config will automatically receive a session expiration time of 60 minutes in Rasa version 2.0 if not configured otherwise.\n",
            "  session_config = cls._get_session_config(data.get(SESSION_CONFIG_KEY, {}))\n",
            "\u001b[0m"
          ]
        },
        {
          "output_type": "stream",
          "name": "stdout",
          "text": [
            "\u001b[94mTraining Core model...\u001b[0m\n"
          ]
        },
        {
          "output_type": "stream",
          "name": "stderr",
          "text": [
            "\u001b[93m/usr/local/lib/python3.7/dist-packages/rasa/core/domain.py:151: FutureWarning: No tracker session configuration was found in the loaded domain. Domains without a session config will automatically receive a session expiration time of 60 minutes in Rasa version 2.0 if not configured otherwise.\n",
            "  session_config = cls._get_session_config(data.get(SESSION_CONFIG_KEY, {}))\n",
            "Processed Story Blocks: 100%|██████████| 11/11 [00:00<00:00, 455.56it/s, # trackers=1]\n",
            "Processed Story Blocks: 100%|██████████| 11/11 [00:00<00:00, 144.54it/s, # trackers=11]\n",
            "Processed Story Blocks: 100%|██████████| 11/11 [00:00<00:00, 76.05it/s, # trackers=33]\n",
            "Processed Story Blocks: 100%|██████████| 11/11 [00:00<00:00, 80.78it/s, # trackers=28]\n",
            "Processed trackers: 100%|██████████| 11/11 [00:00<00:00, 81.30it/s, # actions=39]\n",
            "Processed actions: 39it [00:00, 787.27it/s, # examples=39]\n",
            "Processed trackers: 100%|██████████| 511/511 [00:12<00:00, 40.91it/s, # actions=460]\n",
            "Epochs: 100%|██████████| 100/100 [00:49<00:00,  2.02it/s, t_loss=0.082, loss=0.003, acc=1.000]\n"
          ]
        },
        {
          "output_type": "stream",
          "name": "stdout",
          "text": [
            "\u001b[94mCore model training completed.\u001b[0m\n",
            "\u001b[94mTraining NLU model...\u001b[0m\n"
          ]
        },
        {
          "output_type": "stream",
          "name": "stderr",
          "text": [
            "Epochs: 100%|██████████| 100/100 [00:28<00:00,  3.53it/s, t_loss=2.614, i_loss=0.809, entity_loss=0.056, i_acc=0.959, entity_f1=0.761]\n"
          ]
        },
        {
          "output_type": "stream",
          "name": "stdout",
          "text": [
            "\u001b[94mNLU model training completed.\u001b[0m\n",
            "\u001b[92mYour Rasa model is trained and saved at '/content/test_project/models/20220325-074112.tar.gz'.\u001b[0m\n",
            "models/20220325-074112.tar.gz\n"
          ]
        }
      ],
      "source": [
        "model_path =  rasa.train(domain, config, [training_files], output)\n",
        "print(model_path)"
      ]
    },
    {
      "cell_type": "code",
      "execution_count": 11,
      "metadata": {
        "colab": {
          "base_uri": "https://localhost:8080/"
        },
        "id": "JfyEPmtji-sg",
        "outputId": "615b0a8f-9f61-4fb3-ce76-6315c057ae0c",
        "scrolled": true
      },
      "outputs": [
        {
          "name": "stdout",
          "output_type": "stream",
          "text": [
            "WARNING:tensorflow:From /usr/local/lib/python3.7/dist-packages/tensorflow_core/python/ops/array_grad.py:563: _EagerTensorBase.cpu (from tensorflow.python.framework.ops) is deprecated and will be removed in a future version.\n",
            "Instructions for updating:\n",
            "Use tf.identity instead.\n",
            "Your bot is ready to talk! Type your messages here or send '/stop'.\n",
            "hi\n",
            "\u001b[92mHey! I am a bot that can be used to help you locate McDonald restaurants in Auckland. Please type yes if you'd like to continue, otherwise type /stop!\u001b[0m\n",
            "yes\n",
            "\u001b[92mWhat area in Auckland do you live in? (West, City, South, North Shore, East)\u001b[0m\n",
            "I am on the north shore\n",
            "\u001b[92mYou live in: north shore, Is this correct?\u001b[0m\n",
            "yes\n",
            "\u001b[92mWhat suburb in the area are you closest to? (Albany, Birkenhead, Wairau)\u001b[0m\n",
            "albany\n",
            "\u001b[92mThe suburb you are currently closest to is this: albany, Is this right?\u001b[0m\n",
            "yes\n",
            "\u001b[92mWould you like the address or phone number for the McDonalds you are looking up? Or maybe you'd like to change the address.\u001b[0m\n",
            "address\n",
            "\u001b[92mThis is the address of the McDonalds you are nearest to: albany, north shore\u001b[0m\n",
            "\u001b[92mWould you like any other information? Or maybe you'd like to change the address.\u001b[0m\n",
            "i want to change the adress\n",
            "\u001b[92mThis is the address of the McDonalds you are nearest to: albany, north shore\u001b[0m\n",
            "\u001b[92mWould you like any other information? Or maybe you'd like to change the address.\u001b[0m\n",
            "i would like to restart\n",
            "\u001b[92mWhat area in Auckland do you live in? (West, City, South, North Shore, East)\u001b[0m\n",
            "i am in west auckland\n",
            "\u001b[92mYou live in: west auckland, Is this correct?\u001b[0m\n",
            "yes\n",
            "\u001b[92mWhat suburb in the area are you closest to? (Albany, Birkenhead, Wairau)\u001b[0m\n",
            "wairau\n",
            "\u001b[92mThe suburb you are currently closest to is this: wairau, Is this right?\u001b[0m\n",
            "yes\n",
            "\u001b[92mWould you like the address or phone number for the McDonalds you are looking up? Or maybe you'd like to change the address.\u001b[0m\n",
            "phone number\n",
            "\u001b[92mThis is the phone number of the McDonalds you are nearest to:\u001b[0m\n",
            "\u001b[92mWould you like any other information? Or maybe you'd like to change the address.\u001b[0m\n",
            "/stop\n"
          ]
        }
      ],
      "source": [
        "chat(model_path, endpoints)"
      ]
    },
    {
      "cell_type": "code",
      "execution_count": null,
      "metadata": {
        "id": "SWNViYB8mg28"
      },
      "outputs": [],
      "source": [
        ""
      ]
    }
  ],
  "metadata": {
    "colab": {
      "name": "NLP_303_JordanKelly_Text_To_Text",
      "provenance": [],
      "collapsed_sections": []
    },
    "kernelspec": {
      "display_name": "Python 3 (ipykernel)",
      "language": "python",
      "name": "python3"
    },
    "language_info": {
      "codemirror_mode": {
        "name": "ipython",
        "version": 3
      },
      "file_extension": ".py",
      "mimetype": "text/x-python",
      "name": "python",
      "nbconvert_exporter": "python",
      "pygments_lexer": "ipython3",
      "version": "3.8.12"
    }
  },
  "nbformat": 4,
  "nbformat_minor": 0
}